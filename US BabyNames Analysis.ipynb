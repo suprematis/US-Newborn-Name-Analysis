{
 "cells": [
  {
   "cell_type": "code",
   "execution_count": 1,
   "metadata": {},
   "outputs": [
    {
     "name": "stdout",
     "output_type": "stream",
     "text": [
      "Mary,F,7065\r",
      "\r\n",
      "Anna,F,2604\r",
      "\r\n",
      "Emma,F,2003\r",
      "\r\n",
      "Elizabeth,F,1939\r",
      "\r\n",
      "Minnie,F,1746\r",
      "\r\n",
      "Margaret,F,1578\r",
      "\r\n",
      "Ida,F,1472\r",
      "\r\n",
      "Alice,F,1414\r",
      "\r\n",
      "Bertha,F,1320\r",
      "\r\n",
      "Sarah,F,1288\r",
      "\r\n",
      "Annie,F,1258\r",
      "\r\n",
      "Clara,F,1226\r",
      "\r\n",
      "Ella,F,1156\r",
      "\r\n",
      "Florence,F,1063\r",
      "\r\n",
      "Cora,F,1045\r",
      "\r\n",
      "Martha,F,1040\r",
      "\r\n",
      "Laura,F,1012\r",
      "\r\n",
      "Nellie,F,995\r",
      "\r\n",
      "Grace,F,982\r",
      "\r\n",
      "Carrie,F,949\r",
      "\r\n"
     ]
    }
   ],
   "source": [
    "!head -20 names/yob1880.txt"
   ]
  }
 ],
 "metadata": {
  "kernelspec": {
   "display_name": "Python 2",
   "language": "python",
   "name": "python2"
  },
  "language_info": {
   "codemirror_mode": {
    "name": "ipython",
    "version": 2
   },
   "file_extension": ".py",
   "mimetype": "text/x-python",
   "name": "python",
   "nbconvert_exporter": "python",
   "pygments_lexer": "ipython2",
   "version": "2.7.15"
  }
 },
 "nbformat": 4,
 "nbformat_minor": 2
}
